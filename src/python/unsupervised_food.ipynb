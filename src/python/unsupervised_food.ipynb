{
 "cells": [
  {
   "cell_type": "markdown",
   "metadata": {},
   "source": [
    "# Unsupervised preprocessing and visualization"
   ]
  },
  {
   "cell_type": "code",
   "execution_count": 2,
   "metadata": {},
   "outputs": [],
   "source": [
    "import pandas as pd\n",
    "import numpy as np\n",
    "import matplotlib.pyplot as plt\n",
    "from sklearn.decomposition import PCA\n",
    "from sklearn.preprocessing import StandardScaler"
   ]
  },
  {
   "cell_type": "code",
   "execution_count": 3,
   "metadata": {},
   "outputs": [],
   "source": [
    "# Load dataset\n",
    "food = pd.read_csv('food.csv')"
   ]
  },
  {
   "cell_type": "code",
   "execution_count": 5,
   "metadata": {},
   "outputs": [
    {
     "name": "stdout",
     "output_type": "stream",
     "text": [
      "Dataset dimensions:  (25, 10)\n",
      "<class 'pandas.core.frame.DataFrame'>\n",
      "RangeIndex: 25 entries, 0 to 24\n",
      "Data columns (total 10 columns):\n",
      " #   Column      Non-Null Count  Dtype  \n",
      "---  ------      --------------  -----  \n",
      " 0   Unnamed: 0  25 non-null     object \n",
      " 1   RedMeat     25 non-null     float64\n",
      " 2   WhiteMeat   25 non-null     float64\n",
      " 3   Eggs        25 non-null     float64\n",
      " 4   Milk        25 non-null     float64\n",
      " 5   Fish        25 non-null     float64\n",
      " 6   Cereals     25 non-null     float64\n",
      " 7   Starch      25 non-null     float64\n",
      " 8   Nuts        25 non-null     float64\n",
      " 9   Fr.Veg      25 non-null     float64\n",
      "dtypes: float64(9), object(1)\n",
      "memory usage: 2.1+ KB\n",
      "\n",
      "Info datatypes: None\n",
      "\n",
      "Missing values per feature:\n",
      " Unnamed: 0    0\n",
      "RedMeat       0\n",
      "WhiteMeat     0\n",
      "Eggs          0\n",
      "Milk          0\n",
      "Fish          0\n",
      "Cereals       0\n",
      "Starch        0\n",
      "Nuts          0\n",
      "Fr.Veg        0\n",
      "dtype: int64\n"
     ]
    },
    {
     "data": {
      "application/vnd.microsoft.datawrangler.viewer.v0+json": {
       "columns": [
        {
         "name": "index",
         "rawType": "int64",
         "type": "integer"
        },
        {
         "name": "Unnamed: 0",
         "rawType": "object",
         "type": "string"
        },
        {
         "name": "RedMeat",
         "rawType": "float64",
         "type": "float"
        },
        {
         "name": "WhiteMeat",
         "rawType": "float64",
         "type": "float"
        },
        {
         "name": "Eggs",
         "rawType": "float64",
         "type": "float"
        },
        {
         "name": "Milk",
         "rawType": "float64",
         "type": "float"
        },
        {
         "name": "Fish",
         "rawType": "float64",
         "type": "float"
        },
        {
         "name": "Cereals",
         "rawType": "float64",
         "type": "float"
        },
        {
         "name": "Starch",
         "rawType": "float64",
         "type": "float"
        },
        {
         "name": "Nuts",
         "rawType": "float64",
         "type": "float"
        },
        {
         "name": "Fr.Veg",
         "rawType": "float64",
         "type": "float"
        }
       ],
       "conversionMethod": "pd.DataFrame",
       "ref": "fa8ef299-cb7b-49f0-8c2e-843c808d57df",
       "rows": [
        [
         "0",
         "Albania",
         "10.1",
         "1.4",
         "0.5",
         "8.9",
         "0.2",
         "42.3",
         "0.6",
         "5.5",
         "1.7"
        ],
        [
         "1",
         "Austria",
         "8.9",
         "14.0",
         "4.3",
         "19.9",
         "2.1",
         "28.0",
         "3.6",
         "1.3",
         "4.3"
        ],
        [
         "2",
         "Belgium",
         "13.5",
         "9.3",
         "4.1",
         "17.5",
         "4.5",
         "26.6",
         "5.7",
         "2.1",
         "4.0"
        ],
        [
         "3",
         "Bulgaria",
         "7.8",
         "6.0",
         "1.6",
         "8.3",
         "1.2",
         "56.7",
         "1.1",
         "3.7",
         "4.2"
        ],
        [
         "4",
         "Czechoslovakia",
         "9.7",
         "11.4",
         "2.8",
         "12.5",
         "2.0",
         "34.3",
         "5.0",
         "1.1",
         "4.0"
        ]
       ],
       "shape": {
        "columns": 10,
        "rows": 5
       }
      },
      "text/html": [
       "<div>\n",
       "<style scoped>\n",
       "    .dataframe tbody tr th:only-of-type {\n",
       "        vertical-align: middle;\n",
       "    }\n",
       "\n",
       "    .dataframe tbody tr th {\n",
       "        vertical-align: top;\n",
       "    }\n",
       "\n",
       "    .dataframe thead th {\n",
       "        text-align: right;\n",
       "    }\n",
       "</style>\n",
       "<table border=\"1\" class=\"dataframe\">\n",
       "  <thead>\n",
       "    <tr style=\"text-align: right;\">\n",
       "      <th></th>\n",
       "      <th>Unnamed: 0</th>\n",
       "      <th>RedMeat</th>\n",
       "      <th>WhiteMeat</th>\n",
       "      <th>Eggs</th>\n",
       "      <th>Milk</th>\n",
       "      <th>Fish</th>\n",
       "      <th>Cereals</th>\n",
       "      <th>Starch</th>\n",
       "      <th>Nuts</th>\n",
       "      <th>Fr.Veg</th>\n",
       "    </tr>\n",
       "  </thead>\n",
       "  <tbody>\n",
       "    <tr>\n",
       "      <th>0</th>\n",
       "      <td>Albania</td>\n",
       "      <td>10.1</td>\n",
       "      <td>1.4</td>\n",
       "      <td>0.5</td>\n",
       "      <td>8.9</td>\n",
       "      <td>0.2</td>\n",
       "      <td>42.3</td>\n",
       "      <td>0.6</td>\n",
       "      <td>5.5</td>\n",
       "      <td>1.7</td>\n",
       "    </tr>\n",
       "    <tr>\n",
       "      <th>1</th>\n",
       "      <td>Austria</td>\n",
       "      <td>8.9</td>\n",
       "      <td>14.0</td>\n",
       "      <td>4.3</td>\n",
       "      <td>19.9</td>\n",
       "      <td>2.1</td>\n",
       "      <td>28.0</td>\n",
       "      <td>3.6</td>\n",
       "      <td>1.3</td>\n",
       "      <td>4.3</td>\n",
       "    </tr>\n",
       "    <tr>\n",
       "      <th>2</th>\n",
       "      <td>Belgium</td>\n",
       "      <td>13.5</td>\n",
       "      <td>9.3</td>\n",
       "      <td>4.1</td>\n",
       "      <td>17.5</td>\n",
       "      <td>4.5</td>\n",
       "      <td>26.6</td>\n",
       "      <td>5.7</td>\n",
       "      <td>2.1</td>\n",
       "      <td>4.0</td>\n",
       "    </tr>\n",
       "    <tr>\n",
       "      <th>3</th>\n",
       "      <td>Bulgaria</td>\n",
       "      <td>7.8</td>\n",
       "      <td>6.0</td>\n",
       "      <td>1.6</td>\n",
       "      <td>8.3</td>\n",
       "      <td>1.2</td>\n",
       "      <td>56.7</td>\n",
       "      <td>1.1</td>\n",
       "      <td>3.7</td>\n",
       "      <td>4.2</td>\n",
       "    </tr>\n",
       "    <tr>\n",
       "      <th>4</th>\n",
       "      <td>Czechoslovakia</td>\n",
       "      <td>9.7</td>\n",
       "      <td>11.4</td>\n",
       "      <td>2.8</td>\n",
       "      <td>12.5</td>\n",
       "      <td>2.0</td>\n",
       "      <td>34.3</td>\n",
       "      <td>5.0</td>\n",
       "      <td>1.1</td>\n",
       "      <td>4.0</td>\n",
       "    </tr>\n",
       "  </tbody>\n",
       "</table>\n",
       "</div>"
      ],
      "text/plain": [
       "       Unnamed: 0  RedMeat  WhiteMeat  Eggs  Milk  Fish  Cereals  Starch  \\\n",
       "0         Albania     10.1        1.4   0.5   8.9   0.2     42.3     0.6   \n",
       "1         Austria      8.9       14.0   4.3  19.9   2.1     28.0     3.6   \n",
       "2         Belgium     13.5        9.3   4.1  17.5   4.5     26.6     5.7   \n",
       "3        Bulgaria      7.8        6.0   1.6   8.3   1.2     56.7     1.1   \n",
       "4  Czechoslovakia      9.7       11.4   2.8  12.5   2.0     34.3     5.0   \n",
       "\n",
       "   Nuts  Fr.Veg  \n",
       "0   5.5     1.7  \n",
       "1   1.3     4.3  \n",
       "2   2.1     4.0  \n",
       "3   3.7     4.2  \n",
       "4   1.1     4.0  "
      ]
     },
     "execution_count": 5,
     "metadata": {},
     "output_type": "execute_result"
    }
   ],
   "source": [
    "# Get an overview of the dataset\n",
    "print(\"Dataset dimensions: \", food.shape)\n",
    "print (\"\\nInfo datatypes:\", food.info())\n",
    "print(\"\\nMissing values per feature:\\n\", food.isnull().sum())\n",
    "food.head()"
   ]
  },
  {
   "cell_type": "code",
   "execution_count": null,
   "metadata": {},
   "outputs": [
    {
     "data": {
      "text/plain": [
       "0            Albania\n",
       "1            Austria\n",
       "2            Belgium\n",
       "3           Bulgaria\n",
       "4     Czechoslovakia\n",
       "5            Denmark\n",
       "6          E Germany\n",
       "7            Finland\n",
       "8             France\n",
       "9             Greece\n",
       "10           Hungary\n",
       "11           Ireland\n",
       "12             Italy\n",
       "13       Netherlands\n",
       "14            Norway\n",
       "15            Poland\n",
       "16          Portugal\n",
       "17           Romania\n",
       "18             Spain\n",
       "19            Sweden\n",
       "20       Switzerland\n",
       "21                UK\n",
       "22              USSR\n",
       "23         W Germany\n",
       "24        Yugoslavia\n",
       "Name: Unnamed: 0, dtype: object"
      ]
     },
     "execution_count": 6,
     "metadata": {},
     "output_type": "execute_result"
    }
   ],
   "source": [
    "#Extract countries fpr the plot later on\n",
    "countries = food.iloc[:, 0] #[Note AI: I got this idea from ChatGPT to extract the country names]\n",
    "#Get an overview of the subset\n",
    "countries"
   ]
  },
  {
   "cell_type": "code",
   "execution_count": null,
   "metadata": {},
   "outputs": [],
   "source": [
    "# Handle missing values (optional, depending on dataset)\n",
    "food = food.dropna()  # Drop rows with missing values (for simplicity)\n",
    "#Keep only numeric columns (remove non-numeric columns)\n",
    "food_numeric = food.select_dtypes(include=[np.number])  #[Note AI: ChatGPT helpd to find the function to select numeric columns only]"
   ]
  },
  {
   "cell_type": "code",
   "execution_count": 8,
   "metadata": {},
   "outputs": [],
   "source": [
    "# Feature scaling (Z-transformation using StandardScaler)\n",
    "scaler = StandardScaler()\n",
    "scaled_data = scaler.fit_transform(food_numeric)"
   ]
  },
  {
   "cell_type": "code",
   "execution_count": 9,
   "metadata": {},
   "outputs": [],
   "source": [
    "# Perform PCA\n",
    "pca = PCA(n_components=2)  # We'll focus on the first two principal components\n",
    "pca_result = pca.fit_transform(scaled_data)"
   ]
  },
  {
   "cell_type": "code",
   "execution_count": null,
   "metadata": {},
   "outputs": [],
   "source": [
    "# Create a DataFrame for PCA results\n",
    "pca_food = pd.DataFrame(data=pca_result, columns=['PC1', 'PC2'])\n",
    "\n",
    "pca_food['Country'] = countries  # Add countries"
   ]
  },
  {
   "cell_type": "code",
   "execution_count": 11,
   "metadata": {},
   "outputs": [
    {
     "name": "stdout",
     "output_type": "stream",
     "text": [
      "\n",
      "Explained variance ratio of each principal component:  [0.44515973 0.18166661]\n"
     ]
    }
   ],
   "source": [
    "# Explained variance ratio to understand how much variance is captured by each principal component\n",
    "print(\"\\nExplained variance ratio of each principal component: \", pca.explained_variance_ratio_)\n"
   ]
  },
  {
   "cell_type": "code",
   "execution_count": null,
   "metadata": {},
   "outputs": [
    {
     "data": {
      "image/png": "[encoded data removed]",
      "text/plain": [
       "<Figure size 1000x700 with 1 Axes>"
      ]
     },
     "metadata": {},
     "output_type": "display_data"
    }
   ],
   "source": [
    "# Plot the score plot (PC1 vs PC2)\n",
    "plt.figure(figsize=(10, 7))\n",
    "plt.scatter(pca_food['PC1'], pca_food['PC2'], color='blue', edgecolor='k', alpha=0.7)\n",
    "\n",
    "# Write country names in the plot [Note AI: ChatGPT helped me to find a solution to add country names]\n",
    "for i, country in enumerate(pca_food['Country']):\n",
    "    plt.text(pca_food['PC1'][i], pca_food['PC2'][i], country, fontsize=9, ha='right', va='bottom')\n",
    "\n",
    "plt.title('PCA Score Plot (red meat (PC1) vs white meat (PC2))')\n",
    "plt.xlabel('red meat (PC1)')\n",
    "plt.ylabel('white meat (PC2)')\n",
    "plt.grid(True)\n",
    "plt.show()"
   ]
  }
 ],
 "metadata": {
  "kernelspec": {
   "display_name": "venv",
   "language": "python",
   "name": "python3"
  },
  "language_info": {
   "codemirror_mode": {
    "name": "ipython",
    "version": 3
   },
   "file_extension": ".py",
   "mimetype": "text/x-python",
   "name": "python",
   "nbconvert_exporter": "python",
   "pygments_lexer": "ipython3",
   "version": "3.12.6"
  }
 },
 "nbformat": 4,
 "nbformat_minor": 2
}
